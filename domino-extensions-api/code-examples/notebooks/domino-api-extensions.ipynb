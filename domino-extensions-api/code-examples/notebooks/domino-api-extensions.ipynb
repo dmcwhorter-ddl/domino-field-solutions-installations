{
 "cells": [
  {
   "cell_type": "code",
   "execution_count": null,
   "id": "b3decdc9-7e3e-4ad9-ae6a-8678271e79a4",
   "metadata": {},
   "outputs": [],
   "source": [
    "\n",
    "import requests\n",
    "\n",
    "access_token_endpoint = \"http://localhost:8899/access-token\"\n",
    "resp = requests.get(access_token_endpoint)\n",
    "\n",
    "\n",
    "token = resp.text\n",
    "headers = {\n",
    "    \"Content-Type\": \"application/json\",\n",
    "    \"Authorization\": \"Bearer \" + token,\n",
    "}"
   ]
  },
  {
   "cell_type": "code",
   "execution_count": null,
   "id": "c884a502-bf3b-45fb-a567-01cb1db18b1c",
   "metadata": {},
   "outputs": [],
   "source": [
    "\n",
    "## Get All Environments including the base docker image they are based on\n",
    "\n",
    "params = {\"offset\": 0, \"limit\": 10000}\n",
    "url = f\"http://domino-extensions-api-svc.domino-field.svc.cluster.local/api-extended/environments/beta/environments\"\n",
    "response = requests.request(\"GET\", url, headers=headers, params=params)\n",
    "print(response.status_code)\n",
    "environments = response.json()[\"environments\"]\n",
    "for e in environments:\n",
    "    print(e)\n",
    "\n",
    "\n",
    "\n"
   ]
  },
  {
   "cell_type": "code",
   "execution_count": null,
   "id": "83aa4e2d-f35e-40e9-8c9e-71696d3510ba",
   "metadata": {},
   "outputs": [],
   "source": [
    "## Get All Projects enhanced with the environment id in the settings\n",
    "import requests\n",
    "url = f\"http://domino-extensions-api-svc.domino-field.svc.cluster.local/api-extended/projects/beta/projects\"\n",
    "response = requests.request(\"GET\", url, headers=headers, params=params)\n",
    "print(response.status_code)\n",
    "projects = response.json()[\"projects\"]\n",
    "for p in projects:\n",
    "    print(p)\n",
    "\n"
   ]
  },
  {
   "cell_type": "code",
   "execution_count": null,
   "id": "91c0241f-4c05-4d6e-a1c5-7c82016628db",
   "metadata": {},
   "outputs": [],
   "source": [
    "## Update Project Settings\n",
    "project_id = \"ADD HERE\"\n",
    "url = f\"http://nucleus-frontend.domino-platform.svc.cluster.local:80/v4/projects/{project_id}/settings\"\n",
    "\n",
    "payload = json.dumps({\"defaultEnvironmentId\": \"ADD THE ENV ID TO REPLACE WITH\"})\n",
    "\n",
    "response = requests.request(\"PUT\", url, headers=headers, data=payload)\n",
    "print(response.text)"
   ]
  }
 ],
 "metadata": {
  "dca-init": "true",
  "kernelspec": {
   "display_name": "Python 3",
   "language": "python",
   "name": "python3"
  },
  "language_info": {
   "codemirror_mode": {
    "name": "ipython",
    "version": 3
   },
   "file_extension": ".py",
   "mimetype": "text/x-python",
   "name": "python",
   "nbconvert_exporter": "python",
   "pygments_lexer": "ipython3",
   "version": "3.9.15"
  }
 },
 "nbformat": 4,
 "nbformat_minor": 5
}
